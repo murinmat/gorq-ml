{
 "cells": [
  {
   "cell_type": "code",
   "execution_count": 1,
   "id": "26e8f13e",
   "metadata": {},
   "outputs": [],
   "source": [
    "import torch\n",
    "from src.models.vqvae import VQVAE\n",
    "from src.models.lpips import LPIPS"
   ]
  },
  {
   "cell_type": "code",
   "execution_count": 2,
   "id": "d555def3",
   "metadata": {},
   "outputs": [
    {
     "name": "stderr",
     "output_type": "stream",
     "text": [
      "/home/gorq/miniforge3/envs/vaesd/lib/python3.11/site-packages/torchvision/models/_utils.py:208: UserWarning: The parameter 'pretrained' is deprecated since 0.13 and may be removed in the future, please use 'weights' instead.\n",
      "  warnings.warn(\n",
      "/home/gorq/miniforge3/envs/vaesd/lib/python3.11/site-packages/torchvision/models/_utils.py:223: UserWarning: Arguments other than a weight enum or `None` for 'weights' are deprecated since 0.13 and may be removed in the future. The current behavior is equivalent to passing `weights=VGG16_Weights.IMAGENET1K_V1`. You can also use `weights=VGG16_Weights.DEFAULT` to get the most up-to-date weights.\n",
      "  warnings.warn(msg)\n"
     ]
    },
    {
     "name": "stdout",
     "output_type": "stream",
     "text": [
      "Loading model from: /home/gorq/gorq-ml/projects/vaesd/src/models/weights/v0.1/vgg.pth\n"
     ]
    }
   ],
   "source": [
    "lpips = LPIPS().eval()"
   ]
  },
  {
   "cell_type": "code",
   "execution_count": 11,
   "id": "f3432770",
   "metadata": {},
   "outputs": [
    {
     "data": {
      "text/plain": [
       "tensor([-0.0736, -0.0465, -0.0126, -0.0107, -0.1047, -0.0574, -0.0647,  0.0788,\n",
       "        -0.0871, -0.0302,  0.0846, -0.0189, -0.0795, -0.0362,  0.0122,  0.0304,\n",
       "        -0.0711, -0.1190,  0.0410,  0.1111, -0.0818,  0.0856, -0.0144,  0.0750,\n",
       "        -0.0519, -0.0873,  0.0973,  0.0840, -0.0280,  0.1080, -0.1098,  0.1071,\n",
       "         0.1102,  0.1031,  0.1206, -0.0471, -0.0242,  0.1069, -0.0117, -0.0376,\n",
       "        -0.0379,  0.0671,  0.1053, -0.0548, -0.0317,  0.0832,  0.1076,  0.0387,\n",
       "         0.0429, -0.0912, -0.0344, -0.0959,  0.1246, -0.1121,  0.0948, -0.0938,\n",
       "        -0.0937, -0.0144, -0.0626, -0.0449,  0.0437, -0.1055, -0.0442,  0.0183])"
      ]
     },
     "execution_count": 11,
     "metadata": {},
     "output_type": "execute_result"
    }
   ],
   "source": [
    "lpips.lin0.model[1].weight.flatten()"
   ]
  },
  {
   "cell_type": "code",
   "execution_count": 18,
   "id": "f5e5ea80",
   "metadata": {},
   "outputs": [],
   "source": [
    "model = VQVAE(\n",
    "    im_channels=3,\n",
    "    model_config={\n",
    "        'z_channels': 4,\n",
    "        'codebook_size' : 8192,\n",
    "        'down_channels' : [64, 128, 256, 256],\n",
    "        'mid_channels' : [256, 256],\n",
    "        'down_sample' : [True, True, True],\n",
    "        'attn_down' : [False, False, False],\n",
    "        'norm_channels': 32,\n",
    "        'num_heads': 4,\n",
    "        'num_down_layers' : 2,\n",
    "        'num_mid_layers' : 2,\n",
    "        'num_up_layers' : 2,\n",
    "    }\n",
    ")"
   ]
  },
  {
   "cell_type": "code",
   "execution_count": 26,
   "id": "3700a627",
   "metadata": {},
   "outputs": [],
   "source": [
    "with torch.no_grad():\n",
    "    out = model(torch.randn(8, 3, 64, 64))"
   ]
  },
  {
   "cell_type": "code",
   "execution_count": 28,
   "id": "a07a5d14",
   "metadata": {},
   "outputs": [
    {
     "data": {
      "text/plain": [
       "torch.Size([8, 3, 64, 64])"
      ]
     },
     "execution_count": 28,
     "metadata": {},
     "output_type": "execute_result"
    }
   ],
   "source": [
    "out[0].shape"
   ]
  },
  {
   "cell_type": "code",
   "execution_count": null,
   "id": "ecd7e5e6",
   "metadata": {},
   "outputs": [],
   "source": []
  }
 ],
 "metadata": {
  "kernelspec": {
   "display_name": "vaesd",
   "language": "python",
   "name": "python3"
  },
  "language_info": {
   "codemirror_mode": {
    "name": "ipython",
    "version": 3
   },
   "file_extension": ".py",
   "mimetype": "text/x-python",
   "name": "python",
   "nbconvert_exporter": "python",
   "pygments_lexer": "ipython3",
   "version": "3.11.0"
  }
 },
 "nbformat": 4,
 "nbformat_minor": 5
}
